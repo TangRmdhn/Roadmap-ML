{
  "nbformat": 4,
  "nbformat_minor": 0,
  "metadata": {
    "colab": {
      "provenance": []
    },
    "kernelspec": {
      "name": "python3",
      "display_name": "Python 3"
    },
    "language_info": {
      "name": "python"
    }
  },
  "cells": [
    {
      "cell_type": "code",
      "execution_count": 1,
      "metadata": {
        "id": "wQBuZ0lXbqmq"
      },
      "outputs": [],
      "source": [
        "import numpy as np"
      ]
    },
    {
      "cell_type": "code",
      "source": [
        "iniList = [1,2,3,4,5]"
      ],
      "metadata": {
        "id": "meIScK4Ab1sZ"
      },
      "execution_count": 2,
      "outputs": []
    },
    {
      "cell_type": "code",
      "source": [
        "npArray = np.array(iniList)"
      ],
      "metadata": {
        "id": "IvmHPo5Cb5WP"
      },
      "execution_count": 3,
      "outputs": []
    },
    {
      "cell_type": "code",
      "source": [
        "npArray"
      ],
      "metadata": {
        "colab": {
          "base_uri": "https://localhost:8080/"
        },
        "id": "GHd4t0JZcKjU",
        "outputId": "9a0dab2b-eeea-4404-d256-0b48394a8c04"
      },
      "execution_count": 12,
      "outputs": [
        {
          "output_type": "execute_result",
          "data": {
            "text/plain": [
              "array([1, 2, 3, 4, 5])"
            ]
          },
          "metadata": {},
          "execution_count": 12
        }
      ]
    },
    {
      "cell_type": "code",
      "source": [
        "duaD = np.array([[1,2,3],\n",
        "                 [4,5,6]])\n",
        "\n",
        "duaDd = np.array([[1,1,1],\n",
        "                 [1,1,1],\n",
        "                 [1,1,1]])\n",
        "\n",
        "duaDa = np.array([[2,2],\n",
        "                 [2,2],\n",
        "                 [2,2]])"
      ],
      "metadata": {
        "id": "ujbszcAidRNb"
      },
      "execution_count": 44,
      "outputs": []
    },
    {
      "cell_type": "code",
      "source": [
        "print(np.add(duaD,duaDd))"
      ],
      "metadata": {
        "colab": {
          "base_uri": "https://localhost:8080/"
        },
        "id": "5VfEINX1de5k",
        "outputId": "030f6000-f89d-4959-eb63-e02f5ed5b334"
      },
      "execution_count": 30,
      "outputs": [
        {
          "output_type": "stream",
          "name": "stdout",
          "text": [
            "[[ 2  3  4]\n",
            " [ 5  6  7]\n",
            " [ 8  9 10]]\n"
          ]
        }
      ]
    },
    {
      "cell_type": "code",
      "source": [
        "print(duaD + duaDd)"
      ],
      "metadata": {
        "colab": {
          "base_uri": "https://localhost:8080/"
        },
        "id": "ySSe4IrieaOZ",
        "outputId": "f230b537-db4f-42ee-ab38-a5df03b3894d"
      },
      "execution_count": 32,
      "outputs": [
        {
          "output_type": "stream",
          "name": "stdout",
          "text": [
            "[[ 2  3  4]\n",
            " [ 5  6  7]\n",
            " [ 8  9 10]]\n"
          ]
        }
      ]
    },
    {
      "cell_type": "code",
      "source": [
        "print(\"shape duaD : \", duaD.shape)\n",
        "print(\"shape duaDa : \", duaDa.shape)"
      ],
      "metadata": {
        "colab": {
          "base_uri": "https://localhost:8080/"
        },
        "id": "doxmP9qDnE55",
        "outputId": "4ee6fb9c-ab1d-4700-ed20-c6be73fbe125"
      },
      "execution_count": 62,
      "outputs": [
        {
          "output_type": "stream",
          "name": "stdout",
          "text": [
            "shape duaD :  (2, 3)\n",
            "shape duaDa :  (3, 2)\n"
          ]
        }
      ]
    },
    {
      "cell_type": "code",
      "source": [
        "print(np.dot(duaD, duaDa)) #Perkalian Dot Product\n",
        "print(\"\\nshape setelah dot product :\", np.dot(duaD, duaDa).shape)"
      ],
      "metadata": {
        "colab": {
          "base_uri": "https://localhost:8080/"
        },
        "id": "JeiBGibme2Pj",
        "outputId": "0791b260-aeb6-446c-ada5-62ade57b59d2"
      },
      "execution_count": 67,
      "outputs": [
        {
          "output_type": "stream",
          "name": "stdout",
          "text": [
            "[[12 12]\n",
            " [30 30]]\n",
            "\n",
            "shape setelah dot product : (2, 2)\n"
          ]
        }
      ]
    },
    {
      "cell_type": "markdown",
      "source": [
        "dot product : (2, 3) * (3, 2) = (2, 2)"
      ],
      "metadata": {
        "id": "3j510NsTnQxU"
      }
    },
    {
      "cell_type": "code",
      "source": [
        "print(np.sum(duaD)) #Sum semua"
      ],
      "metadata": {
        "colab": {
          "base_uri": "https://localhost:8080/"
        },
        "id": "PsB8R8vle-za",
        "outputId": "ec19756e-c6b8-421c-cb6b-2527297bf152"
      },
      "execution_count": 49,
      "outputs": [
        {
          "output_type": "stream",
          "name": "stdout",
          "text": [
            "21\n"
          ]
        }
      ]
    },
    {
      "cell_type": "code",
      "source": [
        "print(np.sum(duaD, axis=1)) #Sum Perbaris"
      ],
      "metadata": {
        "colab": {
          "base_uri": "https://localhost:8080/"
        },
        "id": "OY7kLysAmX3M",
        "outputId": "fc131fde-7156-4438-c033-7fb0ab90d737"
      },
      "execution_count": 53,
      "outputs": [
        {
          "output_type": "stream",
          "name": "stdout",
          "text": [
            "[ 6 15]\n"
          ]
        }
      ]
    },
    {
      "cell_type": "code",
      "source": [
        "print(np.sum(duaD, axis=0)) #Sum Perkolom"
      ],
      "metadata": {
        "colab": {
          "base_uri": "https://localhost:8080/"
        },
        "id": "jtJx8qXbmk-p",
        "outputId": "76fa6397-58dd-4e38-8307-e2b2cc188e62"
      },
      "execution_count": 54,
      "outputs": [
        {
          "output_type": "stream",
          "name": "stdout",
          "text": [
            "[5 7 9]\n"
          ]
        }
      ]
    },
    {
      "cell_type": "code",
      "source": [
        "print(np.mean(duaD)) #Mean Semua"
      ],
      "metadata": {
        "colab": {
          "base_uri": "https://localhost:8080/"
        },
        "id": "TNAYIDXsmxXX",
        "outputId": "654e2820-eb24-44ce-854a-444b53cb6fa4"
      },
      "execution_count": 56,
      "outputs": [
        {
          "output_type": "stream",
          "name": "stdout",
          "text": [
            "3.5\n"
          ]
        }
      ]
    },
    {
      "cell_type": "code",
      "source": [
        "print(np.mean(duaD, axis=0)) #Mean Perkolom"
      ],
      "metadata": {
        "colab": {
          "base_uri": "https://localhost:8080/"
        },
        "id": "DBKM4wjbm2Ud",
        "outputId": "dee97a7d-899f-4dff-d1f4-74151ac3b264"
      },
      "execution_count": 59,
      "outputs": [
        {
          "output_type": "stream",
          "name": "stdout",
          "text": [
            "[2.5 3.5 4.5]\n"
          ]
        }
      ]
    },
    {
      "cell_type": "code",
      "source": [
        "print(np.mean(duaD, axis=1)) #Sum Perbaris"
      ],
      "metadata": {
        "colab": {
          "base_uri": "https://localhost:8080/"
        },
        "id": "-o4Dydiam311",
        "outputId": "b5d78954-3609-4c8b-f49d-42546cda96a6"
      },
      "execution_count": 60,
      "outputs": [
        {
          "output_type": "stream",
          "name": "stdout",
          "text": [
            "[2. 5.]\n"
          ]
        }
      ]
    },
    {
      "cell_type": "code",
      "source": [
        "print(\"shape duaD : \", duaD.shape)"
      ],
      "metadata": {
        "colab": {
          "base_uri": "https://localhost:8080/"
        },
        "id": "FsY6TRSIn-kO",
        "outputId": "0a3b212b-39eb-4b7c-d9fe-e7b764ea82cb"
      },
      "execution_count": 74,
      "outputs": [
        {
          "output_type": "stream",
          "name": "stdout",
          "text": [
            "shape duaD :  (2, 3)\n"
          ]
        }
      ]
    },
    {
      "cell_type": "code",
      "source": [
        "duaD"
      ],
      "metadata": {
        "colab": {
          "base_uri": "https://localhost:8080/"
        },
        "id": "lgfxsTRloVVB",
        "outputId": "23b11342-7558-4e15-9f47-1682594feeff"
      },
      "execution_count": 77,
      "outputs": [
        {
          "output_type": "execute_result",
          "data": {
            "text/plain": [
              "array([[1, 2, 3],\n",
              "       [4, 5, 6]])"
            ]
          },
          "metadata": {},
          "execution_count": 77
        }
      ]
    },
    {
      "cell_type": "code",
      "source": [
        "a = np.reshape(duaD, (3,2))\n",
        "a"
      ],
      "metadata": {
        "colab": {
          "base_uri": "https://localhost:8080/"
        },
        "id": "ZV08GYhboPeB",
        "outputId": "20532102-3934-4ccb-a059-d709b8423550"
      },
      "execution_count": 90,
      "outputs": [
        {
          "output_type": "execute_result",
          "data": {
            "text/plain": [
              "array([[1, 2],\n",
              "       [3, 4],\n",
              "       [5, 6]])"
            ]
          },
          "metadata": {},
          "execution_count": 90
        }
      ]
    }
  ]
}